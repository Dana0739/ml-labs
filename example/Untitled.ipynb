{
 "cells": [
  {
   "cell_type": "code",
   "execution_count": 1,
   "metadata": {},
   "outputs": [
    {
     "name": "stdout",
     "output_type": "stream",
     "text": [
      "              Date      Location  MinTemp  MaxTemp  Rainfall  Evaporation  \\\n",
      "0       01.11.2007      Canberra      8.0     24.3       0.0          3.4   \n",
      "1       02.11.2007      Canberra     14.0     26.9       3.6          4.4   \n",
      "2       03.11.2007      Canberra     13.7     23.4       3.6          5.8   \n",
      "3       04.11.2007      Canberra     13.3     15.5      39.8          7.2   \n",
      "4       05.11.2007      Canberra      7.6     16.1       2.8          5.6   \n",
      "...            ...           ...      ...      ...       ...          ...   \n",
      "118898  31.12.2015    Launceston     11.5     32.6       0.0          NaN   \n",
      "118899  31.12.2015  AliceSprings     17.2     21.1      48.4          0.2   \n",
      "118900  31.12.2015        Darwin     27.9     32.9       0.0          8.8   \n",
      "118901  31.12.2015     Katherine     26.0     35.5       0.0          6.8   \n",
      "118902  31.12.2015         Uluru     19.3     37.4       0.0          NaN   \n",
      "\n",
      "        Sunshine WindGustDir  WindGustSpeed WindDir9am  ... Humidity9am  \\\n",
      "0            6.3          NW           30.0         SW  ...        68.0   \n",
      "1            9.7         ENE           39.0          E  ...        80.0   \n",
      "2            3.3          NW           85.0          N  ...        82.0   \n",
      "3            9.1          NW           54.0        WNW  ...        62.0   \n",
      "4           10.6         SSE           50.0        SSE  ...        68.0   \n",
      "...          ...         ...            ...        ...  ...         ...   \n",
      "118898       NaN          NW           37.0         SE  ...        69.0   \n",
      "118899       0.0         SSW           52.0          S  ...        97.0   \n",
      "118900       8.8         WNW           46.0          W  ...        78.0   \n",
      "118901       NaN           S           65.0        WNW  ...        78.0   \n",
      "118902       NaN          SE           56.0        ESE  ...        46.0   \n",
      "\n",
      "        Humidity3pm  Pressure9am  Pressure3pm  Cloud9am  Cloud3pm  Temp9am  \\\n",
      "0              29.0       1019.7       1015.0       7.0       7.0     14.4   \n",
      "1              36.0       1012.4       1008.4       5.0       3.0     17.5   \n",
      "2              69.0       1009.5       1007.2       8.0       7.0     15.4   \n",
      "3              56.0       1005.5       1007.0       2.0       7.0     13.5   \n",
      "4              49.0       1018.3       1018.5       7.0       7.0     11.1   \n",
      "...             ...          ...          ...       ...       ...      ...   \n",
      "118898         21.0          NaN          NaN       NaN       NaN     19.8   \n",
      "118899         95.0       1004.6       1003.6       8.0       8.0     18.0   \n",
      "118900         62.0       1009.9       1007.4       1.0       2.0     29.4   \n",
      "118901          NaN       1008.1       1005.2       7.0       NaN     30.0   \n",
      "118902         18.0       1007.3       1003.7       NaN       NaN     25.8   \n",
      "\n",
      "        Temp3pm  RainToday  RainTomorrow  \n",
      "0          23.6         No           Yes  \n",
      "1          25.7        Yes           Yes  \n",
      "2          20.2        Yes           Yes  \n",
      "3          14.1        Yes           Yes  \n",
      "4          15.4        Yes            No  \n",
      "...         ...        ...           ...  \n",
      "118898     32.3         No            No  \n",
      "118899     19.2        Yes           Yes  \n",
      "118900     31.6         No            No  \n",
      "118901      NaN         No            No  \n",
      "118902     35.8         No            No  \n",
      "\n",
      "[118903 rows x 23 columns]\n"
     ]
    }
   ],
   "source": [
    "from catboost import CatBoostClassifier\n",
    "import pandas as pd\n",
    "import numpy as np\n",
    "\n",
    "mydata = pd.read_csv(\"weather-train.csv\", delimiter=\";\")\n",
    "#mydata = mydata.sample(frac=1, random_state=43)\n",
    "print(mydata)"
   ]
  },
  {
   "cell_type": "code",
   "execution_count": null,
   "metadata": {},
   "outputs": [],
   "source": []
  }
 ],
 "metadata": {
  "kernelspec": {
   "display_name": "Python 3",
   "language": "python",
   "name": "python3"
  },
  "language_info": {
   "codemirror_mode": {
    "name": "ipython",
    "version": 3
   },
   "file_extension": ".py",
   "mimetype": "text/x-python",
   "name": "python",
   "nbconvert_exporter": "python",
   "pygments_lexer": "ipython3",
   "version": "3.8.5"
  }
 },
 "nbformat": 4,
 "nbformat_minor": 4
}
