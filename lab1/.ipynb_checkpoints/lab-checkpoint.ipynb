{
 "cells": [
  {
   "cell_type": "code",
   "execution_count": 1,
   "metadata": {},
   "outputs": [
    {
     "name": "stderr",
     "output_type": "stream",
     "text": [
      "Matplotlib created a temporary config/cache directory at /tmp/matplotlib-6zbqrhn4 because the default path (/home/dana/.config/matplotlib) is not a writable directory; it is highly recommended to set the MPLCONFIGDIR environment variable to a writable directory, in particular to speed up the import of Matplotlib and to better support multiprocessing.\n"
     ]
    },
    {
     "data": {
      "text/html": [
       "<div>\n",
       "<style scoped>\n",
       "    .dataframe tbody tr th:only-of-type {\n",
       "        vertical-align: middle;\n",
       "    }\n",
       "\n",
       "    .dataframe tbody tr th {\n",
       "        vertical-align: top;\n",
       "    }\n",
       "\n",
       "    .dataframe thead th {\n",
       "        text-align: right;\n",
       "    }\n",
       "</style>\n",
       "<table border=\"1\" class=\"dataframe\">\n",
       "  <thead>\n",
       "    <tr style=\"text-align: right;\">\n",
       "      <th></th>\n",
       "      <th>Age</th>\n",
       "      <th>sex</th>\n",
       "      <th>height</th>\n",
       "      <th>weight</th>\n",
       "      <th>QRS_duration</th>\n",
       "      <th>P-R_interval</th>\n",
       "      <th>Q-T_interval</th>\n",
       "      <th>T_interval</th>\n",
       "      <th>P_interval</th>\n",
       "      <th>QRS</th>\n",
       "      <th>...</th>\n",
       "      <th>Amp_V6_Q_wave</th>\n",
       "      <th>Amp_V6_R_wave</th>\n",
       "      <th>Amp_V6_S_wave</th>\n",
       "      <th>Amp_V6_R'_wave</th>\n",
       "      <th>Amp_V6_S'_wave</th>\n",
       "      <th>Amp_V6_P_wave</th>\n",
       "      <th>Amp_V6_T_wave</th>\n",
       "      <th>Amp_V6_QRSA</th>\n",
       "      <th>Amp_V6_QRSTA</th>\n",
       "      <th>cardiac_arrhythmia</th>\n",
       "    </tr>\n",
       "  </thead>\n",
       "  <tbody>\n",
       "    <tr>\n",
       "      <th>count</th>\n",
       "      <td>452.000000</td>\n",
       "      <td>452.000000</td>\n",
       "      <td>452.000000</td>\n",
       "      <td>452.000000</td>\n",
       "      <td>452.000000</td>\n",
       "      <td>452.000000</td>\n",
       "      <td>452.000000</td>\n",
       "      <td>452.000000</td>\n",
       "      <td>452.000000</td>\n",
       "      <td>452.000000</td>\n",
       "      <td>...</td>\n",
       "      <td>452.000000</td>\n",
       "      <td>452.000000</td>\n",
       "      <td>452.000000</td>\n",
       "      <td>452.000000</td>\n",
       "      <td>452.0</td>\n",
       "      <td>452.000000</td>\n",
       "      <td>452.000000</td>\n",
       "      <td>452.000000</td>\n",
       "      <td>452.000000</td>\n",
       "      <td>452.000000</td>\n",
       "    </tr>\n",
       "    <tr>\n",
       "      <th>mean</th>\n",
       "      <td>46.471239</td>\n",
       "      <td>0.550885</td>\n",
       "      <td>166.188053</td>\n",
       "      <td>68.170354</td>\n",
       "      <td>88.920354</td>\n",
       "      <td>155.152655</td>\n",
       "      <td>367.207965</td>\n",
       "      <td>169.949115</td>\n",
       "      <td>90.004425</td>\n",
       "      <td>33.676991</td>\n",
       "      <td>...</td>\n",
       "      <td>-0.278982</td>\n",
       "      <td>9.048009</td>\n",
       "      <td>-1.457301</td>\n",
       "      <td>0.003982</td>\n",
       "      <td>0.0</td>\n",
       "      <td>0.514823</td>\n",
       "      <td>1.222345</td>\n",
       "      <td>19.326106</td>\n",
       "      <td>29.473230</td>\n",
       "      <td>3.880531</td>\n",
       "    </tr>\n",
       "    <tr>\n",
       "      <th>std</th>\n",
       "      <td>16.466631</td>\n",
       "      <td>0.497955</td>\n",
       "      <td>37.170340</td>\n",
       "      <td>16.590803</td>\n",
       "      <td>15.364394</td>\n",
       "      <td>44.842283</td>\n",
       "      <td>33.385421</td>\n",
       "      <td>35.633072</td>\n",
       "      <td>25.826643</td>\n",
       "      <td>45.431434</td>\n",
       "      <td>...</td>\n",
       "      <td>0.548876</td>\n",
       "      <td>3.472862</td>\n",
       "      <td>2.002430</td>\n",
       "      <td>0.050118</td>\n",
       "      <td>0.0</td>\n",
       "      <td>0.347531</td>\n",
       "      <td>1.426052</td>\n",
       "      <td>13.503922</td>\n",
       "      <td>18.493927</td>\n",
       "      <td>4.407097</td>\n",
       "    </tr>\n",
       "    <tr>\n",
       "      <th>min</th>\n",
       "      <td>0.000000</td>\n",
       "      <td>0.000000</td>\n",
       "      <td>105.000000</td>\n",
       "      <td>6.000000</td>\n",
       "      <td>55.000000</td>\n",
       "      <td>0.000000</td>\n",
       "      <td>232.000000</td>\n",
       "      <td>108.000000</td>\n",
       "      <td>0.000000</td>\n",
       "      <td>-172.000000</td>\n",
       "      <td>...</td>\n",
       "      <td>-4.100000</td>\n",
       "      <td>0.000000</td>\n",
       "      <td>-28.600000</td>\n",
       "      <td>0.000000</td>\n",
       "      <td>0.0</td>\n",
       "      <td>-0.800000</td>\n",
       "      <td>-6.000000</td>\n",
       "      <td>-44.200000</td>\n",
       "      <td>-38.600000</td>\n",
       "      <td>1.000000</td>\n",
       "    </tr>\n",
       "    <tr>\n",
       "      <th>25%</th>\n",
       "      <td>36.000000</td>\n",
       "      <td>0.000000</td>\n",
       "      <td>160.000000</td>\n",
       "      <td>59.000000</td>\n",
       "      <td>80.000000</td>\n",
       "      <td>142.000000</td>\n",
       "      <td>350.000000</td>\n",
       "      <td>148.000000</td>\n",
       "      <td>79.000000</td>\n",
       "      <td>3.750000</td>\n",
       "      <td>...</td>\n",
       "      <td>-0.425000</td>\n",
       "      <td>6.600000</td>\n",
       "      <td>-2.100000</td>\n",
       "      <td>0.000000</td>\n",
       "      <td>0.0</td>\n",
       "      <td>0.400000</td>\n",
       "      <td>0.500000</td>\n",
       "      <td>11.450000</td>\n",
       "      <td>17.550000</td>\n",
       "      <td>1.000000</td>\n",
       "    </tr>\n",
       "    <tr>\n",
       "      <th>50%</th>\n",
       "      <td>47.000000</td>\n",
       "      <td>1.000000</td>\n",
       "      <td>164.000000</td>\n",
       "      <td>68.000000</td>\n",
       "      <td>86.000000</td>\n",
       "      <td>157.000000</td>\n",
       "      <td>367.000000</td>\n",
       "      <td>162.000000</td>\n",
       "      <td>91.000000</td>\n",
       "      <td>40.000000</td>\n",
       "      <td>...</td>\n",
       "      <td>0.000000</td>\n",
       "      <td>8.800000</td>\n",
       "      <td>-1.100000</td>\n",
       "      <td>0.000000</td>\n",
       "      <td>0.0</td>\n",
       "      <td>0.500000</td>\n",
       "      <td>1.350000</td>\n",
       "      <td>18.100000</td>\n",
       "      <td>27.900000</td>\n",
       "      <td>1.000000</td>\n",
       "    </tr>\n",
       "    <tr>\n",
       "      <th>75%</th>\n",
       "      <td>58.000000</td>\n",
       "      <td>1.000000</td>\n",
       "      <td>170.000000</td>\n",
       "      <td>79.000000</td>\n",
       "      <td>94.000000</td>\n",
       "      <td>175.000000</td>\n",
       "      <td>384.000000</td>\n",
       "      <td>179.000000</td>\n",
       "      <td>102.000000</td>\n",
       "      <td>66.000000</td>\n",
       "      <td>...</td>\n",
       "      <td>0.000000</td>\n",
       "      <td>11.200000</td>\n",
       "      <td>0.000000</td>\n",
       "      <td>0.000000</td>\n",
       "      <td>0.0</td>\n",
       "      <td>0.700000</td>\n",
       "      <td>2.100000</td>\n",
       "      <td>25.825000</td>\n",
       "      <td>41.125000</td>\n",
       "      <td>6.000000</td>\n",
       "    </tr>\n",
       "    <tr>\n",
       "      <th>max</th>\n",
       "      <td>83.000000</td>\n",
       "      <td>1.000000</td>\n",
       "      <td>780.000000</td>\n",
       "      <td>176.000000</td>\n",
       "      <td>188.000000</td>\n",
       "      <td>524.000000</td>\n",
       "      <td>509.000000</td>\n",
       "      <td>381.000000</td>\n",
       "      <td>205.000000</td>\n",
       "      <td>169.000000</td>\n",
       "      <td>...</td>\n",
       "      <td>0.000000</td>\n",
       "      <td>23.600000</td>\n",
       "      <td>0.000000</td>\n",
       "      <td>0.800000</td>\n",
       "      <td>0.0</td>\n",
       "      <td>2.400000</td>\n",
       "      <td>6.000000</td>\n",
       "      <td>88.800000</td>\n",
       "      <td>115.900000</td>\n",
       "      <td>16.000000</td>\n",
       "    </tr>\n",
       "  </tbody>\n",
       "</table>\n",
       "<p>8 rows × 275 columns</p>\n",
       "</div>"
      ],
      "text/plain": [
       "              Age         sex      height      weight  QRS_duration  \\\n",
       "count  452.000000  452.000000  452.000000  452.000000    452.000000   \n",
       "mean    46.471239    0.550885  166.188053   68.170354     88.920354   \n",
       "std     16.466631    0.497955   37.170340   16.590803     15.364394   \n",
       "min      0.000000    0.000000  105.000000    6.000000     55.000000   \n",
       "25%     36.000000    0.000000  160.000000   59.000000     80.000000   \n",
       "50%     47.000000    1.000000  164.000000   68.000000     86.000000   \n",
       "75%     58.000000    1.000000  170.000000   79.000000     94.000000   \n",
       "max     83.000000    1.000000  780.000000  176.000000    188.000000   \n",
       "\n",
       "       P-R_interval  Q-T_interval  T_interval  P_interval         QRS  ...  \\\n",
       "count    452.000000    452.000000  452.000000  452.000000  452.000000  ...   \n",
       "mean     155.152655    367.207965  169.949115   90.004425   33.676991  ...   \n",
       "std       44.842283     33.385421   35.633072   25.826643   45.431434  ...   \n",
       "min        0.000000    232.000000  108.000000    0.000000 -172.000000  ...   \n",
       "25%      142.000000    350.000000  148.000000   79.000000    3.750000  ...   \n",
       "50%      157.000000    367.000000  162.000000   91.000000   40.000000  ...   \n",
       "75%      175.000000    384.000000  179.000000  102.000000   66.000000  ...   \n",
       "max      524.000000    509.000000  381.000000  205.000000  169.000000  ...   \n",
       "\n",
       "       Amp_V6_Q_wave  Amp_V6_R_wave  Amp_V6_S_wave  Amp_V6_R'_wave  \\\n",
       "count     452.000000     452.000000     452.000000      452.000000   \n",
       "mean       -0.278982       9.048009      -1.457301        0.003982   \n",
       "std         0.548876       3.472862       2.002430        0.050118   \n",
       "min        -4.100000       0.000000     -28.600000        0.000000   \n",
       "25%        -0.425000       6.600000      -2.100000        0.000000   \n",
       "50%         0.000000       8.800000      -1.100000        0.000000   \n",
       "75%         0.000000      11.200000       0.000000        0.000000   \n",
       "max         0.000000      23.600000       0.000000        0.800000   \n",
       "\n",
       "       Amp_V6_S'_wave  Amp_V6_P_wave  Amp_V6_T_wave  Amp_V6_QRSA  \\\n",
       "count           452.0     452.000000     452.000000   452.000000   \n",
       "mean              0.0       0.514823       1.222345    19.326106   \n",
       "std               0.0       0.347531       1.426052    13.503922   \n",
       "min               0.0      -0.800000      -6.000000   -44.200000   \n",
       "25%               0.0       0.400000       0.500000    11.450000   \n",
       "50%               0.0       0.500000       1.350000    18.100000   \n",
       "75%               0.0       0.700000       2.100000    25.825000   \n",
       "max               0.0       2.400000       6.000000    88.800000   \n",
       "\n",
       "       Amp_V6_QRSTA  cardiac_arrhythmia  \n",
       "count    452.000000          452.000000  \n",
       "mean      29.473230            3.880531  \n",
       "std       18.493927            4.407097  \n",
       "min      -38.600000            1.000000  \n",
       "25%       17.550000            1.000000  \n",
       "50%       27.900000            1.000000  \n",
       "75%       41.125000            6.000000  \n",
       "max      115.900000           16.000000  \n",
       "\n",
       "[8 rows x 275 columns]"
      ]
     },
     "execution_count": 1,
     "metadata": {},
     "output_type": "execute_result"
    }
   ],
   "source": [
    "import pandas as pd\n",
    "from sklearn.model_selection import train_test_split\n",
    "from sklearn import preprocessing\n",
    "from sklearn.preprocessing import MinMaxScaler\n",
    "from sklearn.feature_selection import RFE\n",
    "from sklearn.feature_selection import RFECV\n",
    "from sklearn import preprocessing\n",
    "from matplotlib import pyplot as plt\n",
    "\n",
    "data = pd.read_csv('arrhythmia.data')\n",
    "output = pd.DataFrame(index=None, columns=['model','train_Rsquare', 'test_Rsquare', 'train_MSE','test_MSE'])\n",
    "data.describe()"
   ]
  },
  {
   "cell_type": "code",
   "execution_count": 2,
   "metadata": {},
   "outputs": [],
   "source": [
    "import numpy as np\n",
    "data = data.drop(['J'], axis='columns')\n",
    "data = data.replace(to_replace ='?', value=np.NaN)"
   ]
  },
  {
   "cell_type": "code",
   "execution_count": 3,
   "metadata": {},
   "outputs": [],
   "source": [
    "Data_Y = data.cardiac_arrhythmia.values.ravel()\n",
    "Data_X=data.drop('cardiac_arrhythmia', 1)"
   ]
  },
  {
   "cell_type": "code",
   "execution_count": 4,
   "metadata": {},
   "outputs": [
    {
     "data": {
      "text/plain": [
       "(array([ 1,  2,  3,  4,  5,  6,  7,  8,  9, 10, 14, 15, 16]),\n",
       " array([245,  44,  15,  15,  13,  25,   3,   2,   9,  50,   4,   5,  22]))"
      ]
     },
     "execution_count": 4,
     "metadata": {},
     "output_type": "execute_result"
    }
   ],
   "source": [
    "np.unique(Data_Y, return_counts=True)"
   ]
  },
  {
   "cell_type": "code",
   "execution_count": 5,
   "metadata": {},
   "outputs": [
    {
     "data": {
      "text/plain": [
       "(array([ 1,  2,  3,  4,  5,  6,  7,  8,  9, 10, 14, 15, 16]),\n",
       " array([245,  44,  15,  15,  13,  25,   3,   2,   9,  50,   4,   5,  22]))"
      ]
     },
     "execution_count": 5,
     "metadata": {},
     "output_type": "execute_result"
    }
   ],
   "source": [
    "np.unique(Data_Y, return_counts=True)"
   ]
  },
  {
   "cell_type": "code",
   "execution_count": 6,
   "metadata": {},
   "outputs": [
    {
     "data": {
      "text/plain": [
       "Age               0\n",
       "sex               0\n",
       "height            0\n",
       "weight            0\n",
       "QRS_duration      0\n",
       "                 ..\n",
       "Amp_V6_S'_wave    0\n",
       "Amp_V6_P_wave     0\n",
       "Amp_V6_T_wave     0\n",
       "Amp_V6_QRSA       0\n",
       "Amp_V6_QRSTA      0\n",
       "Length: 278, dtype: int64"
      ]
     },
     "execution_count": 6,
     "metadata": {},
     "output_type": "execute_result"
    }
   ],
   "source": [
    "from sklearn.impute import SimpleImputer\n",
    "z=SimpleImputer(missing_values=np.nan, strategy='mean').fit_transform(Data_X)\n",
    "Data_X = pd.DataFrame(data=z,columns=Data_X.columns.values)\n",
    "Data_X.isnull().sum()"
   ]
  },
  {
   "cell_type": "code",
   "execution_count": 7,
   "metadata": {},
   "outputs": [
    {
     "name": "stdout",
     "output_type": "stream",
     "text": [
      "Shape of train (339, 278), shape of test (113, 278)\n"
     ]
    }
   ],
   "source": [
    "data_train_x, data_test_x, data_train_y, data_test_y = train_test_split(Data_X, Data_Y\n",
    "                                                                        , random_state=2)\n",
    "# Scaling the data (MIN MAX Scaling)\n",
    "print('Shape of train {}, shape of test {}'.format(data_train_x.shape, data_test_x.shape))"
   ]
  },
  {
   "cell_type": "code",
   "execution_count": 8,
   "metadata": {},
   "outputs": [],
   "source": [
    "\n",
    "\n",
    "from sklearn.preprocessing import MinMaxScaler\n",
    "\n",
    "#MinMax\n",
    "MinMax = MinMaxScaler(feature_range= (0,1))\n",
    "data_train_x = MinMax.fit_transform(data_train_x)\n",
    "data_test_x = MinMax.transform(data_test_x)"
   ]
  },
  {
   "cell_type": "code",
   "execution_count": null,
   "metadata": {},
   "outputs": [
    {
     "name": "stderr",
     "output_type": "stream",
     "text": [
      "/home/dana/.local/lib/python3.6/site-packages/sklearn/model_selection/_split.py:668: UserWarning: The least populated class in y has only 1 members, which is less than n_splits=10.\n",
      "  % (min_groups, self.n_splits)), UserWarning)\n"
     ]
    }
   ],
   "source": [
    "\n",
    "from sklearn.neighbors import KNeighborsClassifier\n",
    "from sklearn.model_selection import GridSearchCV\n",
    "\n",
    "## We are creating a grid for which all n_neighbors values are to be used for cross validation\n",
    "\n",
    "param_grid={'weights':['distance', 'uniform'], 'n_neighbors':range(1,100)}\n",
    "\n",
    "## Using Grid search for exhaustive searching\n",
    "\n",
    "grid_search = GridSearchCV( KNeighborsClassifier(),param_grid, cv = 10)\n",
    "grid_search.fit(data_train_x, data_train_y)"
   ]
  },
  {
   "cell_type": "code",
   "execution_count": null,
   "metadata": {},
   "outputs": [],
   "source": [
    "\n",
    "from sklearn.metrics import r2_score, mean_squared_error\n",
    "train_Rsquare = grid_search.score(data_train_x, data_train_y)\n",
    "test_Rsquare = grid_search.score(data_test_x, data_test_y)\n",
    "train_MSE = mean_squared_error(data_train_y, grid_search.predict(data_train_x))\n",
    "test_MSE = mean_squared_error(data_test_y, grid_search.predict(data_test_x))\n",
    "output = output.append(pd.Series({'model':'KNN Classifier','train_Rsquare':train_Rsquare, 'test_Rsquare':test_Rsquare, 'train_MSE':train_MSE,'test_MSE':test_MSE}),ignore_index=True )\n",
    "output"
   ]
  },
  {
   "cell_type": "code",
   "execution_count": 50,
   "metadata": {},
   "outputs": [
    {
     "name": "stdout",
     "output_type": "stream",
     "text": [
      "KNeighborsClassifier(n_neighbors=7, weights='distance')\n"
     ]
    }
   ],
   "source": [
    "pd.DataFrame(grid_search.cv_results_)\n",
    "print(grid_search.best_estimator_)"
   ]
  },
  {
   "cell_type": "code",
   "execution_count": 51,
   "metadata": {},
   "outputs": [
    {
     "name": "stdout",
     "output_type": "stream",
     "text": [
      "              precision    recall  f1-score   support\n",
      "\n",
      "           1       0.51      0.96      0.67        57\n",
      "           2       0.00      0.00      0.00        14\n",
      "           3       0.00      0.00      0.00         6\n",
      "           4       1.00      0.25      0.40         4\n",
      "           5       0.00      0.00      0.00         4\n",
      "           6       0.00      0.00      0.00         6\n",
      "           8       0.00      0.00      0.00         1\n",
      "           9       0.00      0.00      0.00         4\n",
      "          10       1.00      0.11      0.20         9\n",
      "          15       0.00      0.00      0.00         2\n",
      "          16       0.00      0.00      0.00         6\n",
      "\n",
      "    accuracy                           0.50       113\n",
      "   macro avg       0.23      0.12      0.12       113\n",
      "weighted avg       0.37      0.50      0.37       113\n",
      "\n"
     ]
    },
    {
     "name": "stderr",
     "output_type": "stream",
     "text": [
      "/Library/Frameworks/Python.framework/Versions/3.7/lib/python3.7/site-packages/sklearn/metrics/_classification.py:1245: UndefinedMetricWarning: Precision and F-score are ill-defined and being set to 0.0 in labels with no predicted samples. Use `zero_division` parameter to control this behavior.\n",
      "  _warn_prf(average, modifier, msg_start, len(result))\n",
      "/Library/Frameworks/Python.framework/Versions/3.7/lib/python3.7/site-packages/sklearn/metrics/_classification.py:1245: UndefinedMetricWarning: Precision and F-score are ill-defined and being set to 0.0 in labels with no predicted samples. Use `zero_division` parameter to control this behavior.\n",
      "  _warn_prf(average, modifier, msg_start, len(result))\n",
      "/Library/Frameworks/Python.framework/Versions/3.7/lib/python3.7/site-packages/sklearn/metrics/_classification.py:1245: UndefinedMetricWarning: Precision and F-score are ill-defined and being set to 0.0 in labels with no predicted samples. Use `zero_division` parameter to control this behavior.\n",
      "  _warn_prf(average, modifier, msg_start, len(result))\n"
     ]
    }
   ],
   "source": [
    "from sklearn.metrics import classification_report\n",
    "knn = KNeighborsClassifier(algorithm='auto', leaf_size=30, metric='minkowski',\n",
    "           metric_params=None, n_jobs=1, n_neighbors=6, p=2,\n",
    "           weights='distance')\n",
    "knn.fit(data_train_x, data_train_y)\n",
    "pred = knn.predict(data_test_x)\n",
    "print(classification_report(data_test_y,pred))"
   ]
  },
  {
   "cell_type": "code",
   "execution_count": null,
   "metadata": {},
   "outputs": [],
   "source": []
  }
 ],
 "metadata": {
  "kernelspec": {
   "display_name": "Python 3",
   "language": "python",
   "name": "python3"
  },
  "language_info": {
   "codemirror_mode": {
    "name": "ipython",
    "version": 3
   },
   "file_extension": ".py",
   "mimetype": "text/x-python",
   "name": "python",
   "nbconvert_exporter": "python",
   "pygments_lexer": "ipython3",
   "version": "3.6.9"
  }
 },
 "nbformat": 4,
 "nbformat_minor": 4
}
